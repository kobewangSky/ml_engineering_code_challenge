{
 "cells": [
  {
   "cell_type": "markdown",
   "metadata": {
    "pycharm": {
     "name": "#%% md\n"
    }
   },
   "source": [
    "### 1. Purpose\n",
    "The purpose of this document is to provide a set of problems to be solved by Vodafone Advanced Data Analytics\n",
    "candidates as a means of skill assessment.\n",
    "### 2. Instructions\n",
    "Solve the problems as directed below.\n",
    "\n",
    "#### 2.1. Code base\n",
    "- Python>=3.6\n",
    "- Include requirements.txt file in each repository\n",
    "\n",
    "### 2.2. Submission\n",
    "Each solution should be uploaded as a GitHub repository that will be deleted after\n",
    "assessment.\n",
    "\n",
    "Provide the repository links to repos in an email to mo.namazi@tpgtelecom.com.au and cc jiaxi.li@tpgtelecom.com.au / mahati.suvvari@tpgtelecom.com.au\n",
    "\n",
    "#### 2.3. Data\n",
    "The data for the problems can be found under the `data/` folder\n",
    "\n",
    "#### 2.4. Guidelines\n",
    "General solutions to these problems may be found available on the internet, feel free to\n",
    "leverage these, however keep in mind we are looking for out-of-the-box thinking as well as\n",
    "neat and scalable code.\n",
    "Focus on the areas you are skilled in.\n",
    "You will be asked to explain your code in full detail.\n",
    "This is an opportunity to show your skills, as much as pass a test, we do not have perfect\n",
    "solutions in mind."
   ]
  },
  {
   "cell_type": "markdown",
   "metadata": {
    "pycharm": {
     "name": "#%% md\n"
    }
   },
   "source": [
    "### Dataset Description\n",
    "\n",
    "We provide an open source dataset for cardiac arrhythmia classification. The dataset contains 452 patients and 279 attributes\n",
    "\n",
    "The dataset is provided in 2 different files:\n",
    "- `arrhythmia.data`\n",
    "\n",
    "- `arrhythmia.names`"
   ]
  },
  {
   "cell_type": "markdown",
   "metadata": {
    "pycharm": {
     "name": "#%% md\n"
    }
   },
   "source": [
    "### Task 1 - Modelling\n",
    "\n",
    "Build a standalone python program (.py) that can be executed in command-line (such as Terminal, Powershell, etc.).\n",
    "\n",
    "`a.` Explore the dataset on the basic statistics, produce a classification model to predict the different classes of Arrhythmia, and present the findings as well as the performance of the model.\n",
    "\n",
    "---\n",
    "\n",
    "`Requirement.` **Using PySpark to build the application**"
   ]
  },
  {
   "cell_type": "code",
   "execution_count": 1,
   "metadata": {
    "pycharm": {
     "name": "#%%\n"
    }
   },
   "outputs": [],
   "source": [
    "#TODO"
   ]
  },
  {
   "cell_type": "markdown",
   "metadata": {
    "pycharm": {
     "name": "#%% md\n"
    }
   },
   "source": [
    "### Task 2 - Deployment\n",
    "\n",
    "Build a controlled environment to package the above solution, so that this code and model could be easily executed in different platform and servers without manually resolving the dependencies/libraries.\n",
    "\n",
    "- Build a container environment/application that the training and inferencing workflow could be executed separated in CLI.\n",
    "- Make sure the application code is modular and easy to read by peers.\n",
    "\n",
    "Note that, it is important to keep in mind that, the same code need to be executed in our environemnt without changing much to the code submitted.\n",
    "\n",
    "---\n",
    "\n",
    "`Hint.` To complete this task, it is expected to include the detailed steps of executing the build of the container environment.\n",
    "\n",
    "`Requirement.` Using `spark-submit` to start/execute the scripts/application."
   ]
  },
  {
   "cell_type": "code",
   "execution_count": null,
   "metadata": {
    "pycharm": {
     "name": "#%%\n"
    }
   },
   "outputs": [],
   "source": [
    "#TODO"
   ]
  },
  {
   "cell_type": "markdown",
   "metadata": {
    "pycharm": {
     "name": "#%% md\n"
    }
   },
   "source": [
    "### Task 3 - Data Analytics\n",
    "\n",
    "Build interesting insights that you could find from the provided dataset and/or the predictive results.\n",
    "\n",
    "---\n",
    "\n",
    "`Hint.` Insights could be presented with or without the results from `Task 1`. Feel free to use any tools and libraries to visualise the insights."
   ]
  },
  {
   "cell_type": "code",
   "execution_count": 18,
   "metadata": {
    "pycharm": {
     "name": "#%%\n"
    }
   },
   "outputs": [],
   "source": [
    "#TODO"
   ]
  },
  {
   "cell_type": "code",
   "execution_count": null,
   "metadata": {
    "pycharm": {
     "name": "#%%\n"
    }
   },
   "outputs": [],
   "source": []
  }
 ],
 "metadata": {
  "interpreter": {
   "hash": "71ece4cc9c4aede854b5983a138a0d4c9cc415fe9dd0477bef89310f7b90319c"
  },
  "kernelspec": {
   "display_name": "Python 3.7.7 ('python37')",
   "language": "python",
   "name": "python3"
  },
  "language_info": {
   "codemirror_mode": {
    "name": "ipython",
    "version": 3
   },
   "file_extension": ".py",
   "mimetype": "text/x-python",
   "name": "python",
   "nbconvert_exporter": "python",
   "pygments_lexer": "ipython3",
   "version": "3.7.7"
  }
 },
 "nbformat": 4,
 "nbformat_minor": 5
}